{
  "nbformat": 4,
  "nbformat_minor": 0,
  "metadata": {
    "kernelspec": {
      "display_name": "Python 3",
      "language": "python",
      "name": "python3"
    },
    "language_info": {
      "codemirror_mode": {
        "name": "ipython",
        "version": 3
      },
      "file_extension": ".py",
      "mimetype": "text/x-python",
      "name": "python",
      "nbconvert_exporter": "python",
      "pygments_lexer": "ipython3",
      "version": "3.6.12"
    },
    "colab": {
      "name": "LUNGCancer.ipynb",
      "provenance": [],
      "collapsed_sections": []
    }
  },
  "cells": [
    {
      "cell_type": "code",
      "metadata": {
        "id": "Tgio4ugrW37H"
      },
      "source": [
        "import numpy as np\n",
        "import pandas as pd\n",
        "\n",
        "import matplotlib.pyplot as plt\n",
        "\n",
        "from sklearn import model_selection\n",
        "from sklearn import preprocessing\n",
        "from sklearn import metrics\n",
        "\n",
        "from sklearn import neighbors\n",
        "from sklearn import naive_bayes\n",
        "from sklearn import discriminant_analysis\n",
        "from sklearn import linear_model\n",
        "from sklearn import tree\n",
        "from sklearn import ensemble\n",
        "from sklearn import svm\n",
        "import seaborn as sns\n",
        "from sklearn.ensemble import RandomForestClassifier\n",
        "from sklearn.tree import DecisionTreeClassifier\n",
        "from sklearn.naive_bayes import GaussianNB\n",
        "from sklearn.linear_model import SGDClassifier\n",
        "from sklearn.preprocessing import StandardScaler\n",
        "from sklearn.neighbors import KNeighborsClassifier\n",
        "from sklearn.ensemble import VotingClassifier\n",
        "from sklearn.ensemble import GradientBoostingClassifier\n",
        "import xgboost as xgb\n",
        "from sklearn.neural_network import MLPClassifier\n"
      ],
      "execution_count": 27,
      "outputs": []
    },
    {
      "cell_type": "code",
      "metadata": {
        "colab": {
          "base_uri": "https://localhost:8080/",
          "height": 240
        },
        "id": "UaLxhL5bW37M",
        "outputId": "c374bba7-8413-46df-89ed-bb12878dc6d8"
      },
      "source": [
        "data_file = pd.read_csv(\"lung cancer.csv\")\n",
        "GENDER = \"GENDER\"\n",
        "AGE = \"AGE\"\n",
        "SMOKING = \"SMOKING\"\n",
        "LUNG_CANCER = \"LUNG_CANCER\"\n",
        "CHRONIC_DISEASE = \"CHRONIC DISEASE\"\n",
        "data_df = pd.read_csv(\"lung cancer.csv\")\n",
        "\n",
        "for col in data_df.columns:\n",
        "    if col != AGE:\n",
        "        data_df[col] = data_df[col].astype('category').cat.codes      \n",
        "data_df.head(5)"
      ],
      "execution_count": 28,
      "outputs": [
        {
          "output_type": "execute_result",
          "data": {
            "text/html": [
              "<div>\n",
              "<style scoped>\n",
              "    .dataframe tbody tr th:only-of-type {\n",
              "        vertical-align: middle;\n",
              "    }\n",
              "\n",
              "    .dataframe tbody tr th {\n",
              "        vertical-align: top;\n",
              "    }\n",
              "\n",
              "    .dataframe thead th {\n",
              "        text-align: right;\n",
              "    }\n",
              "</style>\n",
              "<table border=\"1\" class=\"dataframe\">\n",
              "  <thead>\n",
              "    <tr style=\"text-align: right;\">\n",
              "      <th></th>\n",
              "      <th>GENDER</th>\n",
              "      <th>AGE</th>\n",
              "      <th>SMOKING</th>\n",
              "      <th>YELLOW_FINGERS</th>\n",
              "      <th>ANXIETY</th>\n",
              "      <th>PEER_PRESSURE</th>\n",
              "      <th>CHRONIC DISEASE</th>\n",
              "      <th>FATIGUE</th>\n",
              "      <th>ALLERGY</th>\n",
              "      <th>WHEEZING</th>\n",
              "      <th>ALCOHOL CONSUMING</th>\n",
              "      <th>COUGHING</th>\n",
              "      <th>SHORTNESS OF BREATH</th>\n",
              "      <th>SWALLOWING DIFFICULTY</th>\n",
              "      <th>CHEST PAIN</th>\n",
              "      <th>LUNG_CANCER</th>\n",
              "    </tr>\n",
              "  </thead>\n",
              "  <tbody>\n",
              "    <tr>\n",
              "      <th>0</th>\n",
              "      <td>1</td>\n",
              "      <td>69</td>\n",
              "      <td>0</td>\n",
              "      <td>1</td>\n",
              "      <td>1</td>\n",
              "      <td>0</td>\n",
              "      <td>0</td>\n",
              "      <td>1</td>\n",
              "      <td>0</td>\n",
              "      <td>1</td>\n",
              "      <td>1</td>\n",
              "      <td>1</td>\n",
              "      <td>1</td>\n",
              "      <td>1</td>\n",
              "      <td>1</td>\n",
              "      <td>1</td>\n",
              "    </tr>\n",
              "    <tr>\n",
              "      <th>1</th>\n",
              "      <td>1</td>\n",
              "      <td>74</td>\n",
              "      <td>1</td>\n",
              "      <td>0</td>\n",
              "      <td>0</td>\n",
              "      <td>0</td>\n",
              "      <td>1</td>\n",
              "      <td>1</td>\n",
              "      <td>1</td>\n",
              "      <td>0</td>\n",
              "      <td>0</td>\n",
              "      <td>0</td>\n",
              "      <td>1</td>\n",
              "      <td>1</td>\n",
              "      <td>1</td>\n",
              "      <td>1</td>\n",
              "    </tr>\n",
              "    <tr>\n",
              "      <th>2</th>\n",
              "      <td>0</td>\n",
              "      <td>59</td>\n",
              "      <td>0</td>\n",
              "      <td>0</td>\n",
              "      <td>0</td>\n",
              "      <td>1</td>\n",
              "      <td>0</td>\n",
              "      <td>1</td>\n",
              "      <td>0</td>\n",
              "      <td>1</td>\n",
              "      <td>0</td>\n",
              "      <td>1</td>\n",
              "      <td>1</td>\n",
              "      <td>0</td>\n",
              "      <td>1</td>\n",
              "      <td>0</td>\n",
              "    </tr>\n",
              "    <tr>\n",
              "      <th>3</th>\n",
              "      <td>1</td>\n",
              "      <td>63</td>\n",
              "      <td>1</td>\n",
              "      <td>1</td>\n",
              "      <td>1</td>\n",
              "      <td>0</td>\n",
              "      <td>0</td>\n",
              "      <td>0</td>\n",
              "      <td>0</td>\n",
              "      <td>0</td>\n",
              "      <td>1</td>\n",
              "      <td>0</td>\n",
              "      <td>0</td>\n",
              "      <td>1</td>\n",
              "      <td>1</td>\n",
              "      <td>0</td>\n",
              "    </tr>\n",
              "    <tr>\n",
              "      <th>4</th>\n",
              "      <td>0</td>\n",
              "      <td>63</td>\n",
              "      <td>0</td>\n",
              "      <td>1</td>\n",
              "      <td>0</td>\n",
              "      <td>0</td>\n",
              "      <td>0</td>\n",
              "      <td>0</td>\n",
              "      <td>0</td>\n",
              "      <td>1</td>\n",
              "      <td>0</td>\n",
              "      <td>1</td>\n",
              "      <td>1</td>\n",
              "      <td>0</td>\n",
              "      <td>0</td>\n",
              "      <td>0</td>\n",
              "    </tr>\n",
              "  </tbody>\n",
              "</table>\n",
              "</div>"
            ],
            "text/plain": [
              "   GENDER  AGE  SMOKING  ...  SWALLOWING DIFFICULTY  CHEST PAIN  LUNG_CANCER\n",
              "0       1   69        0  ...                      1           1            1\n",
              "1       1   74        1  ...                      1           1            1\n",
              "2       0   59        0  ...                      0           1            0\n",
              "3       1   63        1  ...                      1           1            0\n",
              "4       0   63        0  ...                      0           0            0\n",
              "\n",
              "[5 rows x 16 columns]"
            ]
          },
          "metadata": {},
          "execution_count": 28
        }
      ]
    },
    {
      "cell_type": "code",
      "metadata": {
        "colab": {
          "base_uri": "https://localhost:8080/"
        },
        "id": "dqQb-3hsW37O",
        "outputId": "5564d0ce-2f9a-45d2-8bb3-0a44c6ebadd3"
      },
      "source": [
        "data_df['LUNG_CANCER'].value_counts()"
      ],
      "execution_count": 29,
      "outputs": [
        {
          "output_type": "execute_result",
          "data": {
            "text/plain": [
              "1    270\n",
              "0     39\n",
              "Name: LUNG_CANCER, dtype: int64"
            ]
          },
          "metadata": {},
          "execution_count": 29
        }
      ]
    },
    {
      "cell_type": "code",
      "metadata": {
        "id": "fqE3SXpvW37O"
      },
      "source": [
        "# Separate the data into people without lung cancer and those with it\n",
        "no_data = data_df[data_df[LUNG_CANCER] == 0]\n",
        "yes_data = data_df[data_df[LUNG_CANCER] == 1]"
      ],
      "execution_count": 30,
      "outputs": []
    },
    {
      "cell_type": "code",
      "metadata": {
        "id": "dV2ChhvoW37P"
      },
      "source": [
        "from sklearn.utils import resample"
      ],
      "execution_count": 31,
      "outputs": []
    },
    {
      "cell_type": "code",
      "metadata": {
        "colab": {
          "base_uri": "https://localhost:8080/"
        },
        "id": "6qD6WQAmW37P",
        "outputId": "84f0012e-5768-4516-e36f-6613386a4997"
      },
      "source": [
        "data_majority = data_df[data_df.LUNG_CANCER==1]\n",
        "data_minority = data_df[data_df.LUNG_CANCER==0]\n",
        " \n",
        "data_minority_upsampled = resample(data_minority, \n",
        "                                 replace=True,  \n",
        "                                 n_samples=269, \n",
        "                                 random_state=4)\n",
        "\n",
        "data = pd.concat([data_majority, data_minority_upsampled])\n",
        "data['LUNG_CANCER'].value_counts()"
      ],
      "execution_count": 32,
      "outputs": [
        {
          "output_type": "execute_result",
          "data": {
            "text/plain": [
              "1    270\n",
              "0    269\n",
              "Name: LUNG_CANCER, dtype: int64"
            ]
          },
          "metadata": {},
          "execution_count": 32
        }
      ]
    },
    {
      "cell_type": "code",
      "metadata": {
        "id": "prAFIhfBW37Q"
      },
      "source": [
        "#data_upsampled.to_csv('D:/upsampled.csv')"
      ],
      "execution_count": 33,
      "outputs": []
    },
    {
      "cell_type": "code",
      "metadata": {
        "colab": {
          "base_uri": "https://localhost:8080/",
          "height": 646
        },
        "id": "H3tVlgD4W37R",
        "outputId": "29a02446-a60c-4344-b561-a3161a4ab034"
      },
      "source": [
        "data.corr()"
      ],
      "execution_count": 34,
      "outputs": [
        {
          "output_type": "execute_result",
          "data": {
            "text/html": [
              "<div>\n",
              "<style scoped>\n",
              "    .dataframe tbody tr th:only-of-type {\n",
              "        vertical-align: middle;\n",
              "    }\n",
              "\n",
              "    .dataframe tbody tr th {\n",
              "        vertical-align: top;\n",
              "    }\n",
              "\n",
              "    .dataframe thead th {\n",
              "        text-align: right;\n",
              "    }\n",
              "</style>\n",
              "<table border=\"1\" class=\"dataframe\">\n",
              "  <thead>\n",
              "    <tr style=\"text-align: right;\">\n",
              "      <th></th>\n",
              "      <th>GENDER</th>\n",
              "      <th>AGE</th>\n",
              "      <th>SMOKING</th>\n",
              "      <th>YELLOW_FINGERS</th>\n",
              "      <th>ANXIETY</th>\n",
              "      <th>PEER_PRESSURE</th>\n",
              "      <th>CHRONIC DISEASE</th>\n",
              "      <th>FATIGUE</th>\n",
              "      <th>ALLERGY</th>\n",
              "      <th>WHEEZING</th>\n",
              "      <th>ALCOHOL CONSUMING</th>\n",
              "      <th>COUGHING</th>\n",
              "      <th>SHORTNESS OF BREATH</th>\n",
              "      <th>SWALLOWING DIFFICULTY</th>\n",
              "      <th>CHEST PAIN</th>\n",
              "      <th>LUNG_CANCER</th>\n",
              "    </tr>\n",
              "  </thead>\n",
              "  <tbody>\n",
              "    <tr>\n",
              "      <th>GENDER</th>\n",
              "      <td>1.000000</td>\n",
              "      <td>0.053034</td>\n",
              "      <td>0.013795</td>\n",
              "      <td>-0.101761</td>\n",
              "      <td>0.008924</td>\n",
              "      <td>-0.022488</td>\n",
              "      <td>-0.160542</td>\n",
              "      <td>-0.123299</td>\n",
              "      <td>0.152937</td>\n",
              "      <td>0.195022</td>\n",
              "      <td>0.487007</td>\n",
              "      <td>0.110961</td>\n",
              "      <td>-0.127003</td>\n",
              "      <td>0.106336</td>\n",
              "      <td>0.453347</td>\n",
              "      <td>0.113331</td>\n",
              "    </tr>\n",
              "    <tr>\n",
              "      <th>AGE</th>\n",
              "      <td>0.053034</td>\n",
              "      <td>1.000000</td>\n",
              "      <td>-0.067120</td>\n",
              "      <td>-0.039480</td>\n",
              "      <td>0.051928</td>\n",
              "      <td>0.125363</td>\n",
              "      <td>-0.035446</td>\n",
              "      <td>0.009101</td>\n",
              "      <td>-0.034332</td>\n",
              "      <td>0.138633</td>\n",
              "      <td>0.143110</td>\n",
              "      <td>0.191779</td>\n",
              "      <td>-0.033381</td>\n",
              "      <td>-0.004218</td>\n",
              "      <td>0.021997</td>\n",
              "      <td>0.166834</td>\n",
              "    </tr>\n",
              "    <tr>\n",
              "      <th>SMOKING</th>\n",
              "      <td>0.013795</td>\n",
              "      <td>-0.067120</td>\n",
              "      <td>1.000000</td>\n",
              "      <td>-0.072564</td>\n",
              "      <td>0.060021</td>\n",
              "      <td>-0.016181</td>\n",
              "      <td>-0.081117</td>\n",
              "      <td>0.039806</td>\n",
              "      <td>0.176385</td>\n",
              "      <td>-0.141425</td>\n",
              "      <td>0.006192</td>\n",
              "      <td>-0.160457</td>\n",
              "      <td>-0.009227</td>\n",
              "      <td>0.033272</td>\n",
              "      <td>0.116128</td>\n",
              "      <td>0.128004</td>\n",
              "    </tr>\n",
              "    <tr>\n",
              "      <th>YELLOW_FINGERS</th>\n",
              "      <td>-0.101761</td>\n",
              "      <td>-0.039480</td>\n",
              "      <td>-0.072564</td>\n",
              "      <td>1.000000</td>\n",
              "      <td>0.443188</td>\n",
              "      <td>0.152721</td>\n",
              "      <td>-0.071894</td>\n",
              "      <td>-0.293359</td>\n",
              "      <td>-0.106982</td>\n",
              "      <td>0.010794</td>\n",
              "      <td>-0.121288</td>\n",
              "      <td>0.154925</td>\n",
              "      <td>-0.146664</td>\n",
              "      <td>0.381276</td>\n",
              "      <td>0.014088</td>\n",
              "      <td>0.198507</td>\n",
              "    </tr>\n",
              "    <tr>\n",
              "      <th>ANXIETY</th>\n",
              "      <td>0.008924</td>\n",
              "      <td>0.051928</td>\n",
              "      <td>0.060021</td>\n",
              "      <td>0.443188</td>\n",
              "      <td>1.000000</td>\n",
              "      <td>0.122630</td>\n",
              "      <td>-0.044979</td>\n",
              "      <td>-0.218399</td>\n",
              "      <td>-0.126870</td>\n",
              "      <td>-0.236965</td>\n",
              "      <td>-0.012848</td>\n",
              "      <td>-0.139669</td>\n",
              "      <td>-0.373462</td>\n",
              "      <td>0.471913</td>\n",
              "      <td>-0.047375</td>\n",
              "      <td>0.158786</td>\n",
              "    </tr>\n",
              "    <tr>\n",
              "      <th>PEER_PRESSURE</th>\n",
              "      <td>-0.022488</td>\n",
              "      <td>0.125363</td>\n",
              "      <td>-0.016181</td>\n",
              "      <td>0.152721</td>\n",
              "      <td>0.122630</td>\n",
              "      <td>1.000000</td>\n",
              "      <td>0.143461</td>\n",
              "      <td>0.049814</td>\n",
              "      <td>0.022248</td>\n",
              "      <td>0.081947</td>\n",
              "      <td>0.049987</td>\n",
              "      <td>0.005754</td>\n",
              "      <td>-0.123383</td>\n",
              "      <td>0.268856</td>\n",
              "      <td>0.102634</td>\n",
              "      <td>0.311043</td>\n",
              "    </tr>\n",
              "    <tr>\n",
              "      <th>CHRONIC DISEASE</th>\n",
              "      <td>-0.160542</td>\n",
              "      <td>-0.035446</td>\n",
              "      <td>-0.081117</td>\n",
              "      <td>-0.071894</td>\n",
              "      <td>-0.044979</td>\n",
              "      <td>0.143461</td>\n",
              "      <td>1.000000</td>\n",
              "      <td>0.038425</td>\n",
              "      <td>0.216899</td>\n",
              "      <td>-0.053833</td>\n",
              "      <td>0.116194</td>\n",
              "      <td>-0.192224</td>\n",
              "      <td>0.066013</td>\n",
              "      <td>0.084499</td>\n",
              "      <td>-0.079913</td>\n",
              "      <td>0.244002</td>\n",
              "    </tr>\n",
              "    <tr>\n",
              "      <th>FATIGUE</th>\n",
              "      <td>-0.123299</td>\n",
              "      <td>0.009101</td>\n",
              "      <td>0.039806</td>\n",
              "      <td>-0.293359</td>\n",
              "      <td>-0.218399</td>\n",
              "      <td>0.049814</td>\n",
              "      <td>0.038425</td>\n",
              "      <td>1.000000</td>\n",
              "      <td>0.125596</td>\n",
              "      <td>0.153600</td>\n",
              "      <td>-0.100524</td>\n",
              "      <td>0.028123</td>\n",
              "      <td>0.491690</td>\n",
              "      <td>-0.119271</td>\n",
              "      <td>-0.032266</td>\n",
              "      <td>0.234971</td>\n",
              "    </tr>\n",
              "    <tr>\n",
              "      <th>ALLERGY</th>\n",
              "      <td>0.152937</td>\n",
              "      <td>-0.034332</td>\n",
              "      <td>0.176385</td>\n",
              "      <td>-0.106982</td>\n",
              "      <td>-0.126870</td>\n",
              "      <td>0.022248</td>\n",
              "      <td>0.216899</td>\n",
              "      <td>0.125596</td>\n",
              "      <td>1.000000</td>\n",
              "      <td>0.272138</td>\n",
              "      <td>0.420668</td>\n",
              "      <td>0.242412</td>\n",
              "      <td>0.060401</td>\n",
              "      <td>0.087579</td>\n",
              "      <td>0.300952</td>\n",
              "      <td>0.513200</td>\n",
              "    </tr>\n",
              "    <tr>\n",
              "      <th>WHEEZING</th>\n",
              "      <td>0.195022</td>\n",
              "      <td>0.138633</td>\n",
              "      <td>-0.141425</td>\n",
              "      <td>0.010794</td>\n",
              "      <td>-0.236965</td>\n",
              "      <td>0.081947</td>\n",
              "      <td>-0.053833</td>\n",
              "      <td>0.153600</td>\n",
              "      <td>0.272138</td>\n",
              "      <td>1.000000</td>\n",
              "      <td>0.353470</td>\n",
              "      <td>0.503504</td>\n",
              "      <td>0.188566</td>\n",
              "      <td>0.113846</td>\n",
              "      <td>0.257012</td>\n",
              "      <td>0.362466</td>\n",
              "    </tr>\n",
              "    <tr>\n",
              "      <th>ALCOHOL CONSUMING</th>\n",
              "      <td>0.487007</td>\n",
              "      <td>0.143110</td>\n",
              "      <td>0.006192</td>\n",
              "      <td>-0.121288</td>\n",
              "      <td>-0.012848</td>\n",
              "      <td>0.049987</td>\n",
              "      <td>0.116194</td>\n",
              "      <td>-0.100524</td>\n",
              "      <td>0.420668</td>\n",
              "      <td>0.353470</td>\n",
              "      <td>1.000000</td>\n",
              "      <td>0.273196</td>\n",
              "      <td>-0.142142</td>\n",
              "      <td>0.130365</td>\n",
              "      <td>0.325877</td>\n",
              "      <td>0.438350</td>\n",
              "    </tr>\n",
              "    <tr>\n",
              "      <th>COUGHING</th>\n",
              "      <td>0.110961</td>\n",
              "      <td>0.191779</td>\n",
              "      <td>-0.160457</td>\n",
              "      <td>0.154925</td>\n",
              "      <td>-0.139669</td>\n",
              "      <td>0.005754</td>\n",
              "      <td>-0.192224</td>\n",
              "      <td>0.028123</td>\n",
              "      <td>0.242412</td>\n",
              "      <td>0.503504</td>\n",
              "      <td>0.273196</td>\n",
              "      <td>1.000000</td>\n",
              "      <td>0.205813</td>\n",
              "      <td>-0.081559</td>\n",
              "      <td>0.110672</td>\n",
              "      <td>0.318046</td>\n",
              "    </tr>\n",
              "    <tr>\n",
              "      <th>SHORTNESS OF BREATH</th>\n",
              "      <td>-0.127003</td>\n",
              "      <td>-0.033381</td>\n",
              "      <td>-0.009227</td>\n",
              "      <td>-0.146664</td>\n",
              "      <td>-0.373462</td>\n",
              "      <td>-0.123383</td>\n",
              "      <td>0.066013</td>\n",
              "      <td>0.491690</td>\n",
              "      <td>0.060401</td>\n",
              "      <td>0.188566</td>\n",
              "      <td>-0.142142</td>\n",
              "      <td>0.205813</td>\n",
              "      <td>1.000000</td>\n",
              "      <td>-0.121972</td>\n",
              "      <td>-0.058402</td>\n",
              "      <td>0.133406</td>\n",
              "    </tr>\n",
              "    <tr>\n",
              "      <th>SWALLOWING DIFFICULTY</th>\n",
              "      <td>0.106336</td>\n",
              "      <td>-0.004218</td>\n",
              "      <td>0.033272</td>\n",
              "      <td>0.381276</td>\n",
              "      <td>0.471913</td>\n",
              "      <td>0.268856</td>\n",
              "      <td>0.084499</td>\n",
              "      <td>-0.119271</td>\n",
              "      <td>0.087579</td>\n",
              "      <td>0.113846</td>\n",
              "      <td>0.130365</td>\n",
              "      <td>-0.081559</td>\n",
              "      <td>-0.121972</td>\n",
              "      <td>1.000000</td>\n",
              "      <td>0.251810</td>\n",
              "      <td>0.410165</td>\n",
              "    </tr>\n",
              "    <tr>\n",
              "      <th>CHEST PAIN</th>\n",
              "      <td>0.453347</td>\n",
              "      <td>0.021997</td>\n",
              "      <td>0.116128</td>\n",
              "      <td>0.014088</td>\n",
              "      <td>-0.047375</td>\n",
              "      <td>0.102634</td>\n",
              "      <td>-0.079913</td>\n",
              "      <td>-0.032266</td>\n",
              "      <td>0.300952</td>\n",
              "      <td>0.257012</td>\n",
              "      <td>0.325877</td>\n",
              "      <td>0.110672</td>\n",
              "      <td>-0.058402</td>\n",
              "      <td>0.251810</td>\n",
              "      <td>1.000000</td>\n",
              "      <td>0.296979</td>\n",
              "    </tr>\n",
              "    <tr>\n",
              "      <th>LUNG_CANCER</th>\n",
              "      <td>0.113331</td>\n",
              "      <td>0.166834</td>\n",
              "      <td>0.128004</td>\n",
              "      <td>0.198507</td>\n",
              "      <td>0.158786</td>\n",
              "      <td>0.311043</td>\n",
              "      <td>0.244002</td>\n",
              "      <td>0.234971</td>\n",
              "      <td>0.513200</td>\n",
              "      <td>0.362466</td>\n",
              "      <td>0.438350</td>\n",
              "      <td>0.318046</td>\n",
              "      <td>0.133406</td>\n",
              "      <td>0.410165</td>\n",
              "      <td>0.296979</td>\n",
              "      <td>1.000000</td>\n",
              "    </tr>\n",
              "  </tbody>\n",
              "</table>\n",
              "</div>"
            ],
            "text/plain": [
              "                         GENDER       AGE  ...  CHEST PAIN  LUNG_CANCER\n",
              "GENDER                 1.000000  0.053034  ...    0.453347     0.113331\n",
              "AGE                    0.053034  1.000000  ...    0.021997     0.166834\n",
              "SMOKING                0.013795 -0.067120  ...    0.116128     0.128004\n",
              "YELLOW_FINGERS        -0.101761 -0.039480  ...    0.014088     0.198507\n",
              "ANXIETY                0.008924  0.051928  ...   -0.047375     0.158786\n",
              "PEER_PRESSURE         -0.022488  0.125363  ...    0.102634     0.311043\n",
              "CHRONIC DISEASE       -0.160542 -0.035446  ...   -0.079913     0.244002\n",
              "FATIGUE               -0.123299  0.009101  ...   -0.032266     0.234971\n",
              "ALLERGY                0.152937 -0.034332  ...    0.300952     0.513200\n",
              "WHEEZING               0.195022  0.138633  ...    0.257012     0.362466\n",
              "ALCOHOL CONSUMING      0.487007  0.143110  ...    0.325877     0.438350\n",
              "COUGHING               0.110961  0.191779  ...    0.110672     0.318046\n",
              "SHORTNESS OF BREATH   -0.127003 -0.033381  ...   -0.058402     0.133406\n",
              "SWALLOWING DIFFICULTY  0.106336 -0.004218  ...    0.251810     0.410165\n",
              "CHEST PAIN             0.453347  0.021997  ...    1.000000     0.296979\n",
              "LUNG_CANCER            0.113331  0.166834  ...    0.296979     1.000000\n",
              "\n",
              "[16 rows x 16 columns]"
            ]
          },
          "metadata": {},
          "execution_count": 34
        }
      ]
    },
    {
      "cell_type": "code",
      "metadata": {
        "colab": {
          "base_uri": "https://localhost:8080/",
          "height": 726
        },
        "id": "_QgWkDdbW37S",
        "outputId": "ed4c9d23-fffa-421d-b5aa-67ade2a1908e"
      },
      "source": [
        "matrix = np.triu(data.corr())\n",
        "plt.figure(figsize = (15,10))\n",
        "sns.heatmap(data.corr(), annot=True, mask=matrix)"
      ],
      "execution_count": 35,
      "outputs": [
        {
          "output_type": "execute_result",
          "data": {
            "text/plain": [
              "<matplotlib.axes._subplots.AxesSubplot at 0x7f39e4de61d0>"
            ]
          },
          "metadata": {},
          "execution_count": 35
        },
        {
          "output_type": "display_data",
          "data": {
            "image/png": "[encoded data removed]",
            "text/plain": [
              "<Figure size 1080x720 with 2 Axes>"
            ]
          },
          "metadata": {
            "needs_background": "light"
          }
        }
      ]
    },
    {
      "cell_type": "markdown",
      "metadata": {
        "id": "ghaZ0_F5W37T"
      },
      "source": [
        "## Age"
      ]
    },
    {
      "cell_type": "code",
      "metadata": {
        "colab": {
          "base_uri": "https://localhost:8080/",
          "height": 298
        },
        "id": "DrIG6px9W37V",
        "outputId": "92beaa78-a60c-45bf-9f73-515a2d758447"
      },
      "source": [
        "yes_data[AGE].plot(title=\"Age vs. lung cancer\", kind=\"hist\")\n",
        "no_data[AGE].plot(kind=\"hist\")"
      ],
      "execution_count": 36,
      "outputs": [
        {
          "output_type": "execute_result",
          "data": {
            "text/plain": [
              "<matplotlib.axes._subplots.AxesSubplot at 0x7f39e50ce1d0>"
            ]
          },
          "metadata": {},
          "execution_count": 36
        },
        {
          "output_type": "display_data",
          "data": {
            "image/png": "[encoded data removed]",
            "text/plain": [
              "<Figure size 432x288 with 1 Axes>"
            ]
          },
          "metadata": {
            "needs_background": "light"
          }
        }
      ]
    },
    {
      "cell_type": "markdown",
      "metadata": {
        "id": "8Ir_3GxjW37W"
      },
      "source": [
        "## Smoking"
      ]
    },
    {
      "cell_type": "code",
      "metadata": {
        "colab": {
          "base_uri": "https://localhost:8080/",
          "height": 296
        },
        "id": "RBVW8FmVW37X",
        "outputId": "c5ac40e2-dd44-4af3-b1c2-77a3ac93c516"
      },
      "source": [
        "yes_data[SMOKING].value_counts().plot(title=\"Smoking vs. lung cancer\", kind=\"bar\")"
      ],
      "execution_count": 37,
      "outputs": [
        {
          "output_type": "execute_result",
          "data": {
            "text/plain": [
              "<matplotlib.axes._subplots.AxesSubplot at 0x7f39e4f4a2d0>"
            ]
          },
          "metadata": {},
          "execution_count": 37
        },
        {
          "output_type": "display_data",
          "data": {
            "image/png": "[encoded data removed]",
            "text/plain": [
              "<Figure size 432x288 with 1 Axes>"
            ]
          },
          "metadata": {
            "needs_background": "light"
          }
        }
      ]
    },
    {
      "cell_type": "code",
      "metadata": {
        "colab": {
          "base_uri": "https://localhost:8080/",
          "height": 296
        },
        "id": "l7N4s-E0W37Y",
        "outputId": "214a0266-786b-4fd7-c2c1-82cf26061782"
      },
      "source": [
        "no_data[SMOKING].value_counts().plot(title=\"Non-smoking vs. lung cancer\", kind=\"bar\")"
      ],
      "execution_count": 38,
      "outputs": [
        {
          "output_type": "execute_result",
          "data": {
            "text/plain": [
              "<matplotlib.axes._subplots.AxesSubplot at 0x7f39e6e642d0>"
            ]
          },
          "metadata": {},
          "execution_count": 38
        },
        {
          "output_type": "display_data",
          "data": {
            "image/png": "[encoded data removed]",
            "text/plain": [
              "<Figure size 432x288 with 1 Axes>"
            ]
          },
          "metadata": {
            "needs_background": "light"
          }
        }
      ]
    },
    {
      "cell_type": "markdown",
      "metadata": {
        "id": "Fxe3G9wPW37Z"
      },
      "source": [
        "## Chronic Disease"
      ]
    },
    {
      "cell_type": "code",
      "metadata": {
        "colab": {
          "base_uri": "https://localhost:8080/",
          "height": 296
        },
        "id": "KOg8CXRaW37Z",
        "outputId": "e0855c0f-0c5f-4b5e-e0ea-f1fddedcfe7b"
      },
      "source": [
        "yes_data[CHRONIC_DISEASE].value_counts().plot(title=\"Chronic disease vs. lung cancer\", kind=\"bar\")"
      ],
      "execution_count": 39,
      "outputs": [
        {
          "output_type": "execute_result",
          "data": {
            "text/plain": [
              "<matplotlib.axes._subplots.AxesSubplot at 0x7f39e6e64810>"
            ]
          },
          "metadata": {},
          "execution_count": 39
        },
        {
          "output_type": "display_data",
          "data": {
            "image/png": "[encoded data removed]",
            "text/plain": [
              "<Figure size 432x288 with 1 Axes>"
            ]
          },
          "metadata": {
            "needs_background": "light"
          }
        }
      ]
    },
    {
      "cell_type": "code",
      "metadata": {
        "colab": {
          "base_uri": "https://localhost:8080/",
          "height": 296
        },
        "id": "hA0LfivJW37b",
        "outputId": "be4a7ea8-b2e8-4aab-b702-eff9d8cdc97f"
      },
      "source": [
        "no_data[CHRONIC_DISEASE].value_counts().plot(title=\"Chronic disease vs. lung cancer\", kind=\"bar\")"
      ],
      "execution_count": 40,
      "outputs": [
        {
          "output_type": "execute_result",
          "data": {
            "text/plain": [
              "<matplotlib.axes._subplots.AxesSubplot at 0x7f39e2910710>"
            ]
          },
          "metadata": {},
          "execution_count": 40
        },
        {
          "output_type": "display_data",
          "data": {
            "image/png": "[encoded data removed]",
            "text/plain": [
              "<Figure size 432x288 with 1 Axes>"
            ]
          },
          "metadata": {
            "needs_background": "light"
          }
        }
      ]
    },
    {
      "cell_type": "markdown",
      "metadata": {
        "id": "QKjiju_lW37b"
      },
      "source": [
        "# Part 2: Making Predictions"
      ]
    },
    {
      "cell_type": "code",
      "metadata": {
        "id": "uoCJI5BoW37c"
      },
      "source": [
        "# Separate the data into training and validation sets\n",
        "data_X = data.iloc[:, 0:15]\n",
        "data_y = data.iloc[:, 15]\n",
        "train_X, test_X, train_y, test_y = model_selection.train_test_split(data_X, data_y, test_size=0.2, random_state=0) #stratify=data_y gives svm accuracy as 1\n",
        "# sc= StandardScaler()\n",
        "# sc.fit(train_X)\n",
        "# train_X= sc.transform(train_X)\n",
        "# sc.fit(test_X)\n",
        "# test_X= sc.transform(test_X)"
      ],
      "execution_count": 41,
      "outputs": []
    },
    {
      "cell_type": "code",
      "metadata": {
        "colab": {
          "base_uri": "https://localhost:8080/",
          "height": 297
        },
        "id": "zccyWMRSBQwi",
        "outputId": "e8e62543-cedf-4929-bbb5-83eb41c2c9d9"
      },
      "source": [
        "error1= []\n",
        "error2= []\n",
        "for k in range(1,16):\n",
        "    knn= KNeighborsClassifier(n_neighbors=k)\n",
        "    knn.fit(train_X,train_y)\n",
        "    y_pred1= knn.predict(train_X)\n",
        "    error1.append(np.mean(train_y!= y_pred1))\n",
        "    y_pred2= knn.predict(test_X)\n",
        "    error2.append(np.mean(test_y!= y_pred2))\n",
        "# plt.figure(figsize(10,5))\n",
        "plt.plot(range(1,16),error1,label=\"train\")\n",
        "plt.plot(range(1,16),error2,label=\"test\")\n",
        "plt.xlabel('k Value')\n",
        "plt.ylabel('Error')\n",
        "plt.legend()"
      ],
      "execution_count": 42,
      "outputs": [
        {
          "output_type": "execute_result",
          "data": {
            "text/plain": [
              "<matplotlib.legend.Legend at 0x7f39e2824690>"
            ]
          },
          "metadata": {},
          "execution_count": 42
        },
        {
          "output_type": "display_data",
          "data": {
            "image/png": "[encoded data removed]",
            "text/plain": [
              "<Figure size 432x288 with 1 Axes>"
            ]
          },
          "metadata": {
            "needs_background": "light"
          }
        }
      ]
    },
    {
      "cell_type": "code",
      "metadata": {
        "id": "guG-zcE4W37c"
      },
      "source": [
        "def run_classifiers(classifiers, train_X, train_y, test_X, test_y):\n",
        "    \"\"\"\n",
        "    Fits each classifier to the training data and runs it on the test data.\n",
        "    Prints out the training and test accuracies. \n",
        "    \"\"\"\n",
        "    results = [] # list of 3-tuples: (classifier name, train accuracy, test accuracy)\n",
        "    \n",
        "\n",
        "    \n",
        "    for clf in classifiers:       \n",
        "        # Run classifier on train and test data\n",
        "        clf.fit(train_X, train_y)\n",
        "        train_pred = clf.predict(train_X)       \n",
        "        train_acc = metrics.accuracy_score(train_y, train_pred)\n",
        "        \n",
        "        test_pred = clf.predict(test_X)\n",
        "        test_acc = metrics.accuracy_score(test_y, test_pred)\n",
        "        \n",
        "        # Print out misclassification metrics\n",
        "        conf_mat = metrics.confusion_matrix(test_y, test_pred)   \n",
        "        precision = conf_mat[1][1] / (conf_mat[1][1] + conf_mat[0][1])\n",
        "        recall = conf_mat[1][1] / (conf_mat[1][1] + conf_mat[1][0])\n",
        "        f1_score = 2 * ((precision * recall) / (precision + recall))\n",
        "\n",
        "        print(f\"{type(clf).__name__}\")\n",
        "        print('---------------------------------')\n",
        "        print(f\"Precision rate = {precision}\")    \n",
        "        print(f\"Recall rate = {recall}\")\n",
        "        print(f\"F1 score = {f1_score}\\n\")\n",
        "        print(conf_mat)\n",
        "        print('---------------------------------')\n",
        "\n",
        "        # Store results\n",
        "        results.append( ((type(clf).__name__), train_acc, test_acc) )\n",
        "        \n",
        "    return results"
      ],
      "execution_count": 43,
      "outputs": []
    },
    {
      "cell_type": "code",
      "metadata": {
        "id": "dWAbxNRVIaUv"
      },
      "source": [
        ""
      ],
      "execution_count": 43,
      "outputs": []
    },
    {
      "cell_type": "code",
      "metadata": {
        "colab": {
          "base_uri": "https://localhost:8080/"
        },
        "id": "HfMNfHT9W37d",
        "outputId": "05ed9b93-abf2-42d0-9d76-67f476fdb2b1"
      },
      "source": [
        "classifiers = [\n",
        "    discriminant_analysis.LinearDiscriminantAnalysis(),\n",
        "    linear_model.LogisticRegression(solver=\"lbfgs\", max_iter=200),\n",
        "    svm.SVC(C=1,gamma=1, kernel='rbf'),\n",
        "    RandomForestClassifier(max_depth=5),\n",
        "    DecisionTreeClassifier(criterion='entropy',random_state=0),\n",
        "    GaussianNB(),\n",
        "    KNeighborsClassifier(n_neighbors=7),\n",
        "    GradientBoostingClassifier(learning_rate=0.01,random_state=1),\n",
        "    ensemble.AdaBoostClassifier(),\n",
        "    xgb.XGBClassifier(random_state=1,learning_rate=0.01),\n",
        "    # VotingClassifier(estimators=[('lr', linear_model.LogisticRegression(solver=\"lbfgs\", max_iter=200)), ('dt', DecisionTreeClassifier(criterion='entropy',random_state=0))], voting='hard'),\n",
        "    VotingClassifier(estimators=[('dt', DecisionTreeClassifier(criterion='entropy',random_state=0)),('svc', svm.SVC(C=1,gamma=1, kernel='rbf'))], voting='hard'),\n",
        "    MLPClassifier(hidden_layer_sizes=(800,), max_iter=1000, random_state=50)\n",
        "]\n",
        "results = run_classifiers(classifiers, train_X, train_y, test_X, test_y)\n",
        "results"
      ],
      "execution_count": 45,
      "outputs": [
        {
          "output_type": "stream",
          "name": "stdout",
          "text": [
            "LinearDiscriminantAnalysis\n",
            "---------------------------------\n",
            "Precision rate = 0.8846153846153846\n",
            "Recall rate = 0.8679245283018868\n",
            "F1 score = 0.8761904761904762\n",
            "\n",
            "[[49  6]\n",
            " [ 7 46]]\n",
            "---------------------------------\n",
            "LogisticRegression\n",
            "---------------------------------\n",
            "Precision rate = 0.8421052631578947\n",
            "Recall rate = 0.9056603773584906\n",
            "F1 score = 0.8727272727272727\n",
            "\n",
            "[[46  9]\n",
            " [ 5 48]]\n",
            "---------------------------------\n",
            "SVC\n",
            "---------------------------------\n",
            "Precision rate = 0.9636363636363636\n",
            "Recall rate = 1.0\n",
            "F1 score = 0.9814814814814815\n",
            "\n",
            "[[53  2]\n",
            " [ 0 53]]\n",
            "---------------------------------\n",
            "RandomForestClassifier\n",
            "---------------------------------\n",
            "Precision rate = 0.8928571428571429\n",
            "Recall rate = 0.9433962264150944\n",
            "F1 score = 0.9174311926605505\n",
            "\n",
            "[[49  6]\n",
            " [ 3 50]]\n",
            "---------------------------------\n",
            "DecisionTreeClassifier\n",
            "---------------------------------\n",
            "Precision rate = 1.0\n",
            "Recall rate = 0.9056603773584906\n",
            "F1 score = 0.9504950495049505\n",
            "\n",
            "[[55  0]\n",
            " [ 5 48]]\n",
            "---------------------------------\n",
            "GaussianNB\n",
            "---------------------------------\n",
            "Precision rate = 0.8360655737704918\n",
            "Recall rate = 0.9622641509433962\n",
            "F1 score = 0.8947368421052632\n",
            "\n",
            "[[45 10]\n",
            " [ 2 51]]\n",
            "---------------------------------\n",
            "KNeighborsClassifier\n",
            "---------------------------------\n",
            "Precision rate = 0.9111111111111111\n",
            "Recall rate = 0.7735849056603774\n",
            "F1 score = 0.8367346938775511\n",
            "\n",
            "[[51  4]\n",
            " [12 41]]\n",
            "---------------------------------\n",
            "GradientBoostingClassifier\n",
            "---------------------------------\n",
            "Precision rate = 0.8518518518518519\n",
            "Recall rate = 0.8679245283018868\n",
            "F1 score = 0.8598130841121496\n",
            "\n",
            "[[47  8]\n",
            " [ 7 46]]\n",
            "---------------------------------\n",
            "AdaBoostClassifier\n",
            "---------------------------------\n",
            "Precision rate = 0.9245283018867925\n",
            "Recall rate = 0.9245283018867925\n",
            "F1 score = 0.9245283018867925\n",
            "\n",
            "[[51  4]\n",
            " [ 4 49]]\n",
            "---------------------------------\n",
            "XGBClassifier\n",
            "---------------------------------\n",
            "Precision rate = 0.8518518518518519\n",
            "Recall rate = 0.8679245283018868\n",
            "F1 score = 0.8598130841121496\n",
            "\n",
            "[[47  8]\n",
            " [ 7 46]]\n",
            "---------------------------------\n",
            "VotingClassifier\n",
            "---------------------------------\n",
            "Precision rate = 1.0\n",
            "Recall rate = 0.9056603773584906\n",
            "F1 score = 0.9504950495049505\n",
            "\n",
            "[[55  0]\n",
            " [ 5 48]]\n",
            "---------------------------------\n",
            "MLPClassifier\n",
            "---------------------------------\n",
            "Precision rate = 0.9583333333333334\n",
            "Recall rate = 0.8679245283018868\n",
            "F1 score = 0.910891089108911\n",
            "\n",
            "[[53  2]\n",
            " [ 7 46]]\n",
            "---------------------------------\n"
          ]
        },
        {
          "output_type": "execute_result",
          "data": {
            "text/plain": [
              "[('LinearDiscriminantAnalysis', 0.9164733178654292, 0.8796296296296297),\n",
              " ('LogisticRegression', 0.91415313225058, 0.8703703703703703),\n",
              " ('SVC', 0.9976798143851509, 0.9814814814814815),\n",
              " ('RandomForestClassifier', 0.9443155452436195, 0.9166666666666666),\n",
              " ('DecisionTreeClassifier', 0.9976798143851509, 0.9537037037037037),\n",
              " ('GaussianNB', 0.8607888631090487, 0.8888888888888888),\n",
              " ('KNeighborsClassifier', 0.8839907192575406, 0.8518518518518519),\n",
              " ('GradientBoostingClassifier', 0.9071925754060325, 0.8611111111111112),\n",
              " ('AdaBoostClassifier', 0.9651972157772621, 0.9259259259259259),\n",
              " ('XGBClassifier', 0.8979118329466357, 0.8611111111111112),\n",
              " ('VotingClassifier', 0.9976798143851509, 0.9537037037037037),\n",
              " ('MLPClassifier', 0.9095127610208816, 0.9166666666666666)]"
            ]
          },
          "metadata": {},
          "execution_count": 45
        }
      ]
    },
    {
      "cell_type": "code",
      "metadata": {
        "colab": {
          "base_uri": "https://localhost:8080/"
        },
        "id": "s8XjGbdyW37d",
        "outputId": "b2dd20d1-7474-4ca4-8514-9ba8ebade169"
      },
      "source": [
        "classifier_names = [clf[0] for clf in results]\n",
        "train_acc = [clf[1] for clf in results]\n",
        "test_acc = [clf[2] for clf in results]\n",
        "\n",
        "for i in range(len(classifier_names)):\n",
        "    print(classifier_names[i],train_acc[i])"
      ],
      "execution_count": 46,
      "outputs": [
        {
          "output_type": "stream",
          "name": "stdout",
          "text": [
            "LinearDiscriminantAnalysis 0.9164733178654292\n",
            "LogisticRegression 0.91415313225058\n",
            "SVC 0.9976798143851509\n",
            "RandomForestClassifier 0.9443155452436195\n",
            "DecisionTreeClassifier 0.9976798143851509\n",
            "GaussianNB 0.8607888631090487\n",
            "KNeighborsClassifier 0.8839907192575406\n",
            "GradientBoostingClassifier 0.9071925754060325\n",
            "AdaBoostClassifier 0.9651972157772621\n",
            "XGBClassifier 0.8979118329466357\n",
            "VotingClassifier 0.9976798143851509\n",
            "MLPClassifier 0.9095127610208816\n"
          ]
        }
      ]
    },
    {
      "cell_type": "code",
      "metadata": {
        "id": "5z-4G6ZUW37e"
      },
      "source": [
        "Accuracy_df = pd.DataFrame(test_acc,classifier_names)\n",
        "Accuracy_df.reset_index(inplace = True)"
      ],
      "execution_count": 47,
      "outputs": []
    },
    {
      "cell_type": "code",
      "metadata": {
        "colab": {
          "base_uri": "https://localhost:8080/",
          "height": 418
        },
        "id": "n6e-oSQXW37e",
        "outputId": "5b030ffc-b064-4ed3-c809-522a715c833c"
      },
      "source": [
        "Accuracy_df"
      ],
      "execution_count": 48,
      "outputs": [
        {
          "output_type": "execute_result",
          "data": {
            "text/html": [
              "<div>\n",
              "<style scoped>\n",
              "    .dataframe tbody tr th:only-of-type {\n",
              "        vertical-align: middle;\n",
              "    }\n",
              "\n",
              "    .dataframe tbody tr th {\n",
              "        vertical-align: top;\n",
              "    }\n",
              "\n",
              "    .dataframe thead th {\n",
              "        text-align: right;\n",
              "    }\n",
              "</style>\n",
              "<table border=\"1\" class=\"dataframe\">\n",
              "  <thead>\n",
              "    <tr style=\"text-align: right;\">\n",
              "      <th></th>\n",
              "      <th>index</th>\n",
              "      <th>0</th>\n",
              "    </tr>\n",
              "  </thead>\n",
              "  <tbody>\n",
              "    <tr>\n",
              "      <th>0</th>\n",
              "      <td>LinearDiscriminantAnalysis</td>\n",
              "      <td>0.879630</td>\n",
              "    </tr>\n",
              "    <tr>\n",
              "      <th>1</th>\n",
              "      <td>LogisticRegression</td>\n",
              "      <td>0.870370</td>\n",
              "    </tr>\n",
              "    <tr>\n",
              "      <th>2</th>\n",
              "      <td>SVC</td>\n",
              "      <td>0.981481</td>\n",
              "    </tr>\n",
              "    <tr>\n",
              "      <th>3</th>\n",
              "      <td>RandomForestClassifier</td>\n",
              "      <td>0.916667</td>\n",
              "    </tr>\n",
              "    <tr>\n",
              "      <th>4</th>\n",
              "      <td>DecisionTreeClassifier</td>\n",
              "      <td>0.953704</td>\n",
              "    </tr>\n",
              "    <tr>\n",
              "      <th>5</th>\n",
              "      <td>GaussianNB</td>\n",
              "      <td>0.888889</td>\n",
              "    </tr>\n",
              "    <tr>\n",
              "      <th>6</th>\n",
              "      <td>KNeighborsClassifier</td>\n",
              "      <td>0.851852</td>\n",
              "    </tr>\n",
              "    <tr>\n",
              "      <th>7</th>\n",
              "      <td>GradientBoostingClassifier</td>\n",
              "      <td>0.861111</td>\n",
              "    </tr>\n",
              "    <tr>\n",
              "      <th>8</th>\n",
              "      <td>AdaBoostClassifier</td>\n",
              "      <td>0.925926</td>\n",
              "    </tr>\n",
              "    <tr>\n",
              "      <th>9</th>\n",
              "      <td>XGBClassifier</td>\n",
              "      <td>0.861111</td>\n",
              "    </tr>\n",
              "    <tr>\n",
              "      <th>10</th>\n",
              "      <td>VotingClassifier</td>\n",
              "      <td>0.953704</td>\n",
              "    </tr>\n",
              "    <tr>\n",
              "      <th>11</th>\n",
              "      <td>MLPClassifier</td>\n",
              "      <td>0.916667</td>\n",
              "    </tr>\n",
              "  </tbody>\n",
              "</table>\n",
              "</div>"
            ],
            "text/plain": [
              "                         index         0\n",
              "0   LinearDiscriminantAnalysis  0.879630\n",
              "1           LogisticRegression  0.870370\n",
              "2                          SVC  0.981481\n",
              "3       RandomForestClassifier  0.916667\n",
              "4       DecisionTreeClassifier  0.953704\n",
              "5                   GaussianNB  0.888889\n",
              "6         KNeighborsClassifier  0.851852\n",
              "7   GradientBoostingClassifier  0.861111\n",
              "8           AdaBoostClassifier  0.925926\n",
              "9                XGBClassifier  0.861111\n",
              "10            VotingClassifier  0.953704\n",
              "11               MLPClassifier  0.916667"
            ]
          },
          "metadata": {},
          "execution_count": 48
        }
      ]
    },
    {
      "cell_type": "code",
      "metadata": {
        "colab": {
          "base_uri": "https://localhost:8080/",
          "height": 418
        },
        "id": "pm9zZOwgW37f",
        "outputId": "30c5288e-45c9-4a43-97bf-09ef900f4329"
      },
      "source": [
        "Accuracy_df.columns = ['Algorithm', 'Accuracy']\n",
        "Accuracy_df"
      ],
      "execution_count": 49,
      "outputs": [
        {
          "output_type": "execute_result",
          "data": {
            "text/html": [
              "<div>\n",
              "<style scoped>\n",
              "    .dataframe tbody tr th:only-of-type {\n",
              "        vertical-align: middle;\n",
              "    }\n",
              "\n",
              "    .dataframe tbody tr th {\n",
              "        vertical-align: top;\n",
              "    }\n",
              "\n",
              "    .dataframe thead th {\n",
              "        text-align: right;\n",
              "    }\n",
              "</style>\n",
              "<table border=\"1\" class=\"dataframe\">\n",
              "  <thead>\n",
              "    <tr style=\"text-align: right;\">\n",
              "      <th></th>\n",
              "      <th>Algorithm</th>\n",
              "      <th>Accuracy</th>\n",
              "    </tr>\n",
              "  </thead>\n",
              "  <tbody>\n",
              "    <tr>\n",
              "      <th>0</th>\n",
              "      <td>LinearDiscriminantAnalysis</td>\n",
              "      <td>0.879630</td>\n",
              "    </tr>\n",
              "    <tr>\n",
              "      <th>1</th>\n",
              "      <td>LogisticRegression</td>\n",
              "      <td>0.870370</td>\n",
              "    </tr>\n",
              "    <tr>\n",
              "      <th>2</th>\n",
              "      <td>SVC</td>\n",
              "      <td>0.981481</td>\n",
              "    </tr>\n",
              "    <tr>\n",
              "      <th>3</th>\n",
              "      <td>RandomForestClassifier</td>\n",
              "      <td>0.916667</td>\n",
              "    </tr>\n",
              "    <tr>\n",
              "      <th>4</th>\n",
              "      <td>DecisionTreeClassifier</td>\n",
              "      <td>0.953704</td>\n",
              "    </tr>\n",
              "    <tr>\n",
              "      <th>5</th>\n",
              "      <td>GaussianNB</td>\n",
              "      <td>0.888889</td>\n",
              "    </tr>\n",
              "    <tr>\n",
              "      <th>6</th>\n",
              "      <td>KNeighborsClassifier</td>\n",
              "      <td>0.851852</td>\n",
              "    </tr>\n",
              "    <tr>\n",
              "      <th>7</th>\n",
              "      <td>GradientBoostingClassifier</td>\n",
              "      <td>0.861111</td>\n",
              "    </tr>\n",
              "    <tr>\n",
              "      <th>8</th>\n",
              "      <td>AdaBoostClassifier</td>\n",
              "      <td>0.925926</td>\n",
              "    </tr>\n",
              "    <tr>\n",
              "      <th>9</th>\n",
              "      <td>XGBClassifier</td>\n",
              "      <td>0.861111</td>\n",
              "    </tr>\n",
              "    <tr>\n",
              "      <th>10</th>\n",
              "      <td>VotingClassifier</td>\n",
              "      <td>0.953704</td>\n",
              "    </tr>\n",
              "    <tr>\n",
              "      <th>11</th>\n",
              "      <td>MLPClassifier</td>\n",
              "      <td>0.916667</td>\n",
              "    </tr>\n",
              "  </tbody>\n",
              "</table>\n",
              "</div>"
            ],
            "text/plain": [
              "                     Algorithm  Accuracy\n",
              "0   LinearDiscriminantAnalysis  0.879630\n",
              "1           LogisticRegression  0.870370\n",
              "2                          SVC  0.981481\n",
              "3       RandomForestClassifier  0.916667\n",
              "4       DecisionTreeClassifier  0.953704\n",
              "5                   GaussianNB  0.888889\n",
              "6         KNeighborsClassifier  0.851852\n",
              "7   GradientBoostingClassifier  0.861111\n",
              "8           AdaBoostClassifier  0.925926\n",
              "9                XGBClassifier  0.861111\n",
              "10            VotingClassifier  0.953704\n",
              "11               MLPClassifier  0.916667"
            ]
          },
          "metadata": {},
          "execution_count": 49
        }
      ]
    },
    {
      "cell_type": "code",
      "metadata": {
        "colab": {
          "base_uri": "https://localhost:8080/",
          "height": 357
        },
        "id": "voeGRfcJW37f",
        "outputId": "83278e38-d632-470f-a604-90cb9d022655"
      },
      "source": [
        "plt.figure(figsize=(25,7))\n",
        "ax = sns.barplot(x=\"Algorithm\", y=\"Accuracy\", data = Accuracy_df).set(title='Accuracy with Different Classification Algorithms')"
      ],
      "execution_count": 50,
      "outputs": [
        {
          "output_type": "display_data",
          "data": {
            "image/png": "[encoded data removed]",
            "text/plain": [
              "<Figure size 1800x504 with 1 Axes>"
            ]
          },
          "metadata": {
            "needs_background": "light"
          }
        }
      ]
    },
    {
      "cell_type": "code",
      "metadata": {
        "colab": {
          "base_uri": "https://localhost:8080/"
        },
        "id": "WKpFwprIW37f",
        "outputId": "f62494c2-5f46-4868-e490-7724380d0a76"
      },
      "source": [
        "from sklearn.model_selection import cross_val_score\n",
        "print(cross_val_score(svm.SVC(C=1, break_ties=False, cache_size=200, class_weight=None, coef0=0.0,\n",
        "    decision_function_shape='ovr', degree=3, gamma=1, kernel='rbf', max_iter=-1,\n",
        "    probability=False, random_state=None, shrinking=True, tol=0.001,\n",
        "    verbose=False),train_X,train_y,cv=4,scoring=\"accuracy\").mean())"
      ],
      "execution_count": 51,
      "outputs": [
        {
          "output_type": "stream",
          "name": "stdout",
          "text": [
            "0.986024575977847\n"
          ]
        }
      ]
    },
    {
      "cell_type": "markdown",
      "metadata": {
        "id": "1tpZJ2hoW37f"
      },
      "source": [
        "# Parameters SVM\n",
        "C=1, break_ties=False, cache_size=200, class_weight=None, coef0=0.0,\n",
        "    decision_function_shape='ovr', degree=3, gamma=1, kernel='rbf', max_iter=-1,\n",
        "    probability=False, random_state=None, shrinking=True, tol=0.001,\n",
        "    verbose=False"
      ]
    },
    {
      "cell_type": "code",
      "metadata": {
        "id": "mHmfc-Q-W37g"
      },
      "source": [
        "from sklearn.svm import SVC\n",
        "from sklearn.model_selection import GridSearchCV \n",
        "\n",
        "# defining parameter range \n",
        "param_grid = {'C': [0.1, 1, 10, 100, 1000], \n",
        "\t\t\t'gamma': [1, 0.1, 0.01, 0.001, 0.0001], \n",
        "\t\t\t'kernel': ['rbf']} \n",
        "\n",
        "grid = GridSearchCV(SVC(), param_grid, refit = True, verbose = 3) \n",
        "\n",
        "# fitting the model for grid search \n",
        "grid.fit(train_X, train_y)"
      ],
      "execution_count": null,
      "outputs": []
    },
    {
      "cell_type": "code",
      "metadata": {
        "id": "DFEx0UYgW37g"
      },
      "source": [
        "# print best parameter after tuning \n",
        "print(grid.best_params_) \n",
        "\n",
        "# print how our model looks after hyper-parameter tuning \n",
        "print(grid.best_estimator_) \n"
      ],
      "execution_count": null,
      "outputs": []
    }
  ]
}